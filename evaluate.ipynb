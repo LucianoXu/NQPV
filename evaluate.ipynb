{
 "cells": [
  {
   "attachments": {},
   "cell_type": "markdown",
   "metadata": {},
   "source": [
    "# Evaluation of NQPV"
   ]
  },
  {
   "attachments": {},
   "cell_type": "markdown",
   "metadata": {},
   "source": [
    "NQPV process \".nqpv\" files in the local folder. \n",
    "For convenience we prepare the method to verify a string of program program directly."
   ]
  },
  {
   "cell_type": "code",
   "execution_count": null,
   "metadata": {},
   "outputs": [],
   "source": [
    "import nqpv\n",
    "\n",
    "def verify_prog(content : str):\n",
    "    fp = open(\"example.nqpv\",\"w\")\n",
    "    fp.write(content)\n",
    "    fp.close()\n",
    "\n",
    "    nqpv.entrance.verify(\"example.nqpv\")"
   ]
  },
  {
   "attachments": {},
   "cell_type": "markdown",
   "metadata": {},
   "source": [
    "## NQPV - Introduction and Demonstration"
   ]
  },
  {
   "attachments": {},
   "cell_type": "markdown",
   "metadata": {},
   "source": [
    "This section introduces the NQPV system, and a detailed explanation may be found in the \"README.md\" file."
   ]
  },
  {
   "attachments": {},
   "cell_type": "markdown",
   "metadata": {},
   "source": [
    "### Hello World Example"
   ]
  },
  {
   "attachments": {},
   "cell_type": "markdown",
   "metadata": {},
   "source": [
    "This is a hello-world example."
   ]
  },
  {
   "cell_type": "code",
   "execution_count": null,
   "metadata": {},
   "outputs": [],
   "source": [
    "code = '''\n",
    "def pf := proof [q] :\n",
    "    { P0[q] };\n",
    "    q *= X;\n",
    "    { P1[q] }\n",
    "end\n",
    "\n",
    "show pf end\n",
    "'''\n",
    "verify_prog(code)"
   ]
  },
  {
   "attachments": {},
   "cell_type": "markdown",
   "metadata": {},
   "source": [
    "The above verification corresponds to this correctness formula:\n",
    "$$\n",
    "\\{\\ket{0}_{q}\\bra{0}\\}\\ q\\ *= X\\ \\{\\ket{1}_{q}\\bra{1}\\},\n",
    "$$\n",
    "which says that the $X$ gate flips $\\ket{0}$ state to $\\ket{1}$ state."
   ]
  },
  {
   "attachments": {},
   "cell_type": "markdown",
   "metadata": {},
   "source": [
    "### Variable system"
   ]
  },
  {
   "attachments": {},
   "cell_type": "markdown",
   "metadata": {},
   "source": [
    "A simple variable system is implemented. Variables are saved in scopes, and some commonly used operators are prepared in the global scope. The following command displays the global scope."
   ]
  },
  {
   "cell_type": "code",
   "execution_count": null,
   "metadata": {},
   "outputs": [],
   "source": [
    "code = '''\n",
    "    show global end\n",
    "'''\n",
    "verify_prog(code)"
   ]
  },
  {
   "attachments": {},
   "cell_type": "markdown",
   "metadata": {},
   "source": [
    "We can display the variables. For example, the measurement operators for $\\ket{0}, \\ket{1}$ basis and $\\ket{+}, \\ket{-}$ basis."
   ]
  },
  {
   "cell_type": "code",
   "execution_count": null,
   "metadata": {},
   "outputs": [],
   "source": [
    "code = '''\n",
    "    show M10 end\n",
    "    show global.Mpm end\n",
    "'''\n",
    "verify_prog(code)"
   ]
  },
  {
   "attachments": {},
   "cell_type": "markdown",
   "metadata": {},
   "source": [
    "### Verifications Ability"
   ]
  },
  {
   "attachments": {},
   "cell_type": "markdown",
   "metadata": {},
   "source": [
    "#### Detect syntax error"
   ]
  },
  {
   "attachments": {},
   "cell_type": "markdown",
   "metadata": {},
   "source": [
    "Besides the syntax check while parsing, NQPV also check whether the given quantum program is valid. For example, the number of qubits should match the quantum variable list, and there should not be identical variables in a variable list."
   ]
  },
  {
   "cell_type": "code",
   "execution_count": null,
   "metadata": {},
   "outputs": [],
   "source": [
    "code = '''\n",
    "    def pf := proof [q] :\n",
    "        { I[q] };\n",
    "        q *= CX;\n",
    "        { I[q]}\n",
    "    end\n",
    "\n",
    "    def pf := proof [q1 q2] :\n",
    "        { I[q1] };\n",
    "        [q1 q1] *= CX;\n",
    "        { I[q1] }\n",
    "    end\n",
    "'''\n",
    "verify_prog(code)"
   ]
  },
  {
   "attachments": {},
   "cell_type": "markdown",
   "metadata": {},
   "source": [
    "#### Detect invalid correctness formula"
   ]
  },
  {
   "attachments": {},
   "cell_type": "markdown",
   "metadata": {},
   "source": [
    "The following correctness proof does not hold, and is not accepted by NQPV."
   ]
  },
  {
   "cell_type": "code",
   "execution_count": null,
   "metadata": {},
   "outputs": [],
   "source": [
    "code = '''\n",
    "    def pf := proof [q] :\n",
    "        { P0[q] };\n",
    "        q *= X;\n",
    "        { P0[q]}\n",
    "    end\n",
    "'''\n",
    "verify_prog(code)"
   ]
  },
  {
   "attachments": {},
   "cell_type": "markdown",
   "metadata": {},
   "source": [
    "#### Human support and loop invariant"
   ]
  },
  {
   "attachments": {},
   "cell_type": "markdown",
   "metadata": {},
   "source": [
    "To prove the correctness of loops, a loop invariant as hint is required in the program. A weak loop invariant may result in the rejection of a theoretically true correctness formula."
   ]
  },
  {
   "cell_type": "code",
   "execution_count": null,
   "metadata": {},
   "outputs": [],
   "source": [
    "code = '''\n",
    "    def pf := proof [q] :\n",
    "        { I[q] };\n",
    "        { inv : Zero[q] };\n",
    "        while M10[q] do\n",
    "            q *= H\n",
    "        end;\n",
    "        { P0[q] }\n",
    "    end\n",
    "'''\n",
    "verify_prog(code)"
   ]
  },
  {
   "attachments": {},
   "cell_type": "markdown",
   "metadata": {},
   "source": [
    "With a propriate invariant, NQPV accepts the formula."
   ]
  },
  {
   "cell_type": "code",
   "execution_count": null,
   "metadata": {},
   "outputs": [],
   "source": [
    "code = '''\n",
    "    def pf := proof [q] :\n",
    "        { I[q] };\n",
    "        { inv : I[q] };\n",
    "        while M10[q] do\n",
    "            q *= H\n",
    "        end;\n",
    "        { P0[q] }\n",
    "    end\n",
    "    show pf end\n",
    "'''\n",
    "verify_prog(code)"
   ]
  },
  {
   "attachments": {},
   "cell_type": "markdown",
   "metadata": {},
   "source": [
    "### Soundness and Precision"
   ]
  },
  {
   "attachments": {},
   "cell_type": "markdown",
   "metadata": {},
   "source": [
    "Since NQPV is based on numerical methods, it is influnced by the precision settings. According to our experiences, NQPV is still a sound tool. Correctness proofs accepted by NQPV are also provable theoretically."
   ]
  },
  {
   "attachments": {},
   "cell_type": "markdown",
   "metadata": {},
   "source": [
    "If the equality judgement precision (EPS) is higher than the precision of the SDP solver (SDP_PRECISION), then NQPV may reject a correctness proof which actually holds."
   ]
  },
  {
   "cell_type": "code",
   "execution_count": null,
   "metadata": {},
   "outputs": [],
   "source": [
    "code = '''\n",
    "    setting EPS := 1e-8 end\n",
    "    setting SDP_PRECISION := 1e-5 end\n",
    "    def pf := proof [q] :\n",
    "        { P0[q] P1[q] };\n",
    "        q *= X;\n",
    "        { P1[q] P0[q] }\n",
    "    end\n",
    "'''\n",
    "verify_prog(code)"
   ]
  },
  {
   "attachments": {},
   "cell_type": "markdown",
   "metadata": {},
   "source": [
    "By an attemp of higher SDP solve precision, we are still able to prove this correctness formula."
   ]
  },
  {
   "cell_type": "code",
   "execution_count": null,
   "metadata": {},
   "outputs": [],
   "source": [
    "code = '''\n",
    "    setting EPS := 1e-8 end\n",
    "    setting SDP_PRECISION := 1e-10 end\n",
    "    def pf := proof [q] :\n",
    "        { P0[q] P1[q] };\n",
    "        q *= X;\n",
    "        { P1[q] P0[q] }\n",
    "    end\n",
    "    show pf end\n",
    "'''\n",
    "verify_prog(code)"
   ]
  },
  {
   "attachments": {},
   "cell_type": "markdown",
   "metadata": {},
   "source": [
    "## Verifying Article Results"
   ]
  },
  {
   "attachments": {},
   "cell_type": "markdown",
   "metadata": {},
   "source": [
    "### Error Correction Code"
   ]
  },
  {
   "attachments": {},
   "cell_type": "markdown",
   "metadata": {},
   "source": [
    "Because NQPV is a numerical tool, it cannot handle the statement that error correction code works for any (parametrized) initial states. So here we check a random initial state."
   ]
  },
  {
   "cell_type": "code",
   "execution_count": null,
   "metadata": {},
   "outputs": [],
   "source": [
    "import nqpv\n",
    "import numpy as np\n",
    "\n",
    "# create a Hermitian projection operator on a random ket\n",
    "theta = np.random.rand() * np.pi\n",
    "phi = np.random.rand() * np.pi * 2\n",
    "\n",
    "ket = np.array([np.cos(theta), np.sin(theta)*np.exp(phi*1j)])\n",
    "\n",
    "Hrand = np.outer(ket, np.conj(ket))\n",
    "\n",
    "np.save(\"Hrand\", Hrand)\n",
    "\n",
    "# the program\n",
    "code = '''\n",
    "def Hrand := load \"Hrand.npy\" end\n",
    "\n",
    "def pf := proof[q] :\n",
    "    { Hrand[q] };\n",
    "\n",
    "    [q1 q2] :=0;\n",
    "    [q q1] *= CX;\n",
    "    [q q2] *= CX;\n",
    "    (skip # q *= X # q1 *= X # q2 *= X);\n",
    "    [q q1] *= CX;\n",
    "    [q q2] *= CX;\n",
    "    [q1 q2 q] *= CCX;\n",
    "\n",
    "    { Hrand[q] }\n",
    "end\n",
    "\n",
    "show pf end\n",
    "'''\n",
    "\n",
    "# verify\n",
    "verify_prog(code)"
   ]
  },
  {
   "attachments": {},
   "cell_type": "markdown",
   "metadata": {},
   "source": [
    "Examing the proof outline, we will find that the generated verification condition is named \"VAR13\", and we can compare it with the precondition we gave."
   ]
  },
  {
   "cell_type": "code",
   "execution_count": null,
   "metadata": {},
   "outputs": [],
   "source": [
    "code = '''\n",
    "def Hrand := load \"Hrand.npy\" end\n",
    "\n",
    "def pf := proof[q] :\n",
    "    { Hrand[q] };\n",
    "\n",
    "    [q1 q2] :=0;\n",
    "    [q q1] *= CX;\n",
    "    [q q2] *= CX;\n",
    "    (skip # q *= X # q1 *= X # q2 *= X);\n",
    "    [q q1] *= CX;\n",
    "    [q q2] *= CX;\n",
    "    [q1 q2 q] *= CCX;\n",
    "\n",
    "    { Hrand[q] }\n",
    "end\n",
    "\n",
    "show Hrand end\n",
    "show VAR13 end\n",
    "'''\n",
    "\n",
    "# verify\n",
    "verify_prog(code)"
   ]
  },
  {
   "attachments": {},
   "cell_type": "markdown",
   "metadata": {},
   "source": [
    "They are actualy identical with respect to a cylinder extension. In other words,\n",
    "$$\n",
    "\\mathrm{Hrand} = \\mathrm{VAR13}\\otimes I \\otimes I.\n",
    "$$"
   ]
  },
  {
   "attachments": {},
   "cell_type": "markdown",
   "metadata": {},
   "source": [
    "### Quantum Walk"
   ]
  },
  {
   "cell_type": "code",
   "execution_count": null,
   "metadata": {},
   "outputs": [],
   "source": [
    "import nqpv\n",
    "import numpy as np\n",
    "\n",
    "# create the required operators\n",
    "W1 = np.array([[1., 1., 0., -1.],\n",
    "                [1., -1., 1., 0.],\n",
    "                [0., 1., 1., 1.],\n",
    "                [1., 0., -1., 1.]]) / np.sqrt(3)\n",
    "W2 = np.array([[1., 1., 0., 1.],\n",
    "                [-1., 1., -1., 0.],\n",
    "                [0., 1., 1., -1.],\n",
    "                [1., 0., -1., -1.]]) / np.sqrt(3)\n",
    "np.save(\"W1\", W1.reshape((2,2,2,2)))\n",
    "np.save(\"W2\", W2.reshape((2,2,2,2)))\n",
    "\n",
    "P0 = np.array([[0., 0., 0., 0.],\n",
    "                    [0., 0., 0., 0.],\n",
    "                    [0., 0., 1., 0.],\n",
    "                    [0., 0., 0., 0.]])\n",
    "P1 = np.array([[1., 0., 0., 0.],\n",
    "                    [0., 1., 0., 0.],\n",
    "                    [0., 0., 0., 0.],\n",
    "                    [0., 0., 0., 1.]])\n",
    "                    \n",
    "MQWalk = np.stack((P1,P0), axis = 0)\n",
    "np.save(\"MQWalk\", MQWalk.reshape((2,2,2,2,2)))\n",
    "\n",
    "# the invariant N\n",
    "invN = np.array([[1., 0., 0., 0.],\n",
    "                [0., 0.5, 0., 0.5],\n",
    "                [0., 0., 0., 0.],\n",
    "                [0., 0.5, 0., 0.5]])\n",
    "np.save(\"invN\", invN.reshape((2,2,2,2)))\n",
    "\n",
    "# the program of quantum walk\n",
    "code = '''\n",
    "def invN := load \"invN.npy\" end\n",
    "def MQWalk := load \"MQWalk.npy\" end\n",
    "def W1 := load \"W1.npy\" end\n",
    "def W2 := load \"W2.npy\" end\n",
    "\n",
    "def pf := proof[q1 q2] :\n",
    "    { I[q1] };\n",
    "\n",
    "    [q1 q2] :=0;\n",
    "\n",
    "    {inv: invN[q1 q2]};\n",
    "    while MQWalk[q1 q2] do\n",
    "        (\n",
    "            [q1 q2] *= W1; [q1 q2] *= W2\n",
    "        #\n",
    "            [q1 q2] *= W2; [q1 q2] *= W1\n",
    "        )\n",
    "    end;\n",
    "\n",
    "    { Zero[q1] }\n",
    "\n",
    "end\n",
    "\n",
    "show pf end\n",
    "'''\n",
    "# verify\n",
    "verify_prog(code)"
   ]
  },
  {
   "attachments": {},
   "cell_type": "markdown",
   "metadata": {},
   "source": [
    "Check the verification condition."
   ]
  },
  {
   "cell_type": "code",
   "execution_count": null,
   "metadata": {},
   "outputs": [],
   "source": [
    "# the program of quantum walk\n",
    "code = '''\n",
    "def invN := load \"invN.npy\" end\n",
    "def MQWalk := load \"MQWalk.npy\" end\n",
    "def W1 := load \"W1.npy\" end\n",
    "def W2 := load \"W2.npy\" end\n",
    "\n",
    "def pf := proof[q1 q2] :\n",
    "    { I[q1] };\n",
    "\n",
    "    [q1 q2] :=0;\n",
    "\n",
    "    {inv: invN[q1 q2]};\n",
    "    while MQWalk[q1 q2] do\n",
    "        (\n",
    "            [q1 q2] *= W1; [q1 q2] *= W2\n",
    "        #\n",
    "            [q1 q2] *= W2; [q1 q2] *= W1\n",
    "        )\n",
    "    end;\n",
    "\n",
    "    { Zero[q1] }\n",
    "\n",
    "end\n",
    "\n",
    "show I end\n",
    "show VAR2 end\n",
    "'''\n",
    "# verify\n",
    "verify_prog(code)"
   ]
  },
  {
   "attachments": {},
   "cell_type": "markdown",
   "metadata": {},
   "source": [
    "### Deutsch algorithm"
   ]
  },
  {
   "cell_type": "code",
   "execution_count": null,
   "metadata": {},
   "outputs": [],
   "source": [
    "import nqpv\n",
    "import numpy as np\n",
    "\n",
    "# create the required operators\n",
    "Hpost = np.array([[1., 0., 0., 0.],\n",
    "                    [0., 0., 0., 0.],\n",
    "                    [0., 0., 0., 0.],\n",
    "                    [0., 0., 0., 1.]])\n",
    "np.save(\"./Hpost\", Hpost.reshape((2,2,2,2)))\n",
    "\n",
    "\n",
    "# the program of Deutsch algorithm\n",
    "code = '''\n",
    "def Hpost := load \"Hpost.npy\" end\n",
    "\n",
    "def pf := proof[q q1] :\n",
    "    { I[q] };\n",
    "    [q1 q2] :=0;\n",
    "    q1 *= H;\n",
    "    q2 *= X;\n",
    "    q2 *= H;\n",
    "    if M10[q] then\n",
    "        ( \n",
    "            [q1 q2] *= CX\n",
    "        #\n",
    "            q1 *= X;\n",
    "            [q1 q2] *= CX;\n",
    "            q1 *= X\n",
    "        )\n",
    "    else\n",
    "        (\n",
    "            skip\n",
    "        #\n",
    "            q2 *= X\n",
    "        )\n",
    "    end;\n",
    "    q1 *= H;\n",
    "    if M01[q1] then\n",
    "        skip\n",
    "    else\n",
    "        skip\n",
    "    end;\n",
    "    { Hpost[q q1] }\n",
    "end\n",
    "\n",
    "show pf end\n",
    "'''\n",
    "\n",
    "# verify\n",
    "verify_prog(code)"
   ]
  },
  {
   "attachments": {},
   "cell_type": "markdown",
   "metadata": {},
   "source": [
    "## Performance Test: n-qubit Grover algorithm"
   ]
  },
  {
   "attachments": {},
   "cell_type": "markdown",
   "metadata": {},
   "source": [
    "It is hard to fairly compare the \"performance\" of different tools. Even though, here we take the Grover algorithm as an example to test the performance of NQPV on programs with large qubit number."
   ]
  },
  {
   "cell_type": "code",
   "execution_count": null,
   "metadata": {},
   "outputs": [],
   "source": [
    "from examples import GroverN"
   ]
  },
  {
   "attachments": {},
   "cell_type": "markdown",
   "metadata": {},
   "source": [
    "This is the program for 2-qubit Grover algorithm. Again, here we assume a particular solution of the oracle, and the correctness formula states that the algorithm successfully finds the solution with certaion probability."
   ]
  },
  {
   "cell_type": "code",
   "execution_count": null,
   "metadata": {},
   "outputs": [],
   "source": [
    "print(GroverN.generate_grover_prog(2))"
   ]
  },
  {
   "attachments": {},
   "cell_type": "markdown",
   "metadata": {},
   "source": [
    "The following performance test will cost several minutes."
   ]
  },
  {
   "cell_type": "code",
   "execution_count": null,
   "metadata": {},
   "outputs": [],
   "source": [
    "n_max = 13\n",
    "GroverN.grover_performance_test(n_max)"
   ]
  }
 ],
 "metadata": {
  "kernelspec": {
   "display_name": "base",
   "language": "python",
   "name": "python3"
  },
  "language_info": {
   "codemirror_mode": {
    "name": "ipython",
    "version": 3
   },
   "file_extension": ".py",
   "mimetype": "text/x-python",
   "name": "python",
   "nbconvert_exporter": "python",
   "pygments_lexer": "ipython3",
   "version": "3.9.12"
  },
  "orig_nbformat": 4,
  "vscode": {
   "interpreter": {
    "hash": "ad2bdc8ecc057115af97d19610ffacc2b4e99fae6737bb82f5d7fb13d2f2c186"
   }
  }
 },
 "nbformat": 4,
 "nbformat_minor": 2
}
